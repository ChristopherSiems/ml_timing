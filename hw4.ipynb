{
 "cells": [
  {
   "cell_type": "code",
   "execution_count": null,
   "metadata": {},
   "outputs": [
    {
     "name": "stdout",
     "output_type": "stream",
     "text": [
      "Requirement already satisfied: numpy in ./env/lib64/python3.13/site-packages (2.2.3)\n",
      "Requirement already satisfied: pandas in ./env/lib64/python3.13/site-packages (2.2.3)\n",
      "Requirement already satisfied: scikit-learn in ./env/lib64/python3.13/site-packages (1.6.1)\n",
      "Requirement already satisfied: python-dateutil>=2.8.2 in ./env/lib64/python3.13/site-packages (from pandas) (2.9.0.post0)\n",
      "Requirement already satisfied: pytz>=2020.1 in ./env/lib64/python3.13/site-packages (from pandas) (2025.1)\n",
      "Requirement already satisfied: tzdata>=2022.7 in ./env/lib64/python3.13/site-packages (from pandas) (2025.1)\n",
      "Requirement already satisfied: scipy>=1.6.0 in ./env/lib64/python3.13/site-packages (from scikit-learn) (1.15.2)\n",
      "Requirement already satisfied: joblib>=1.2.0 in ./env/lib64/python3.13/site-packages (from scikit-learn) (1.4.2)\n",
      "Requirement already satisfied: threadpoolctl>=3.1.0 in ./env/lib64/python3.13/site-packages (from scikit-learn) (3.6.0)\n",
      "Requirement already satisfied: six>=1.5 in ./env/lib64/python3.13/site-packages (from python-dateutil>=2.8.2->pandas) (1.17.0)\n",
      "Note: you may need to restart the kernel to use updated packages.\n"
     ]
    }
   ],
   "source": [
    "%pip install numpy pandas scikit-learn\n",
    "\n",
    "from contextlib import contextmanager\n",
    "from pathlib import Path\n",
    "from timeit import default_timer\n",
    "\n",
    "from numpy import float64, uint8\n",
    "\n",
    "from pandas import DataFrame, Series\n",
    "\n",
    "from sklearn.datasets import fetch_openml\n",
    "from sklearn.linear_model import SGDClassifier\n",
    "from sklearn.multiclass import OneVsRestClassifier\n",
    "from sklearn.preprocessing import StandardScaler\n",
    "from sklearn.svm import SVC"
   ]
  },
  {
   "cell_type": "code",
   "execution_count": null,
   "metadata": {},
   "outputs": [],
   "source": [
    "@contextmanager\n",
    "def timer():\n",
    "  '''from given starter code'''\n",
    "\n",
    "  start = default_timer()\n",
    "  def elapser(): return default_timer() - start\n",
    "  yield lambda: elapser()\n",
    "  end = default_timer()\n",
    "  def elapser(): return end - start\n",
    "\n",
    "def time(name: str, model: SGDClassifier | SVC, X: DataFrame, y: Series) -> None:\n",
    "  '''\n",
    "  time fitting models\n",
    "  :param name: the name of the model\n",
    "  :type name: str\n",
    "  :param model: the model to fit\n",
    "  :type model: SGDClassifier | SVC\n",
    "  :param X: the training feature set\n",
    "  :type X: DataFrame\n",
    "  :param y: the training label set\n",
    "  :type y: Series\n",
    "  '''\n",
    "\n",
    "  file: str = f'times/{name}.txt'\n",
    "  if Path(file).is_file():\n",
    "    with open(file, 'r') as time:\n",
    "      print(time.read())\n",
    "  else:\n",
    "    with timer() as fit_timer:\n",
    "      model.fit(X, y)\n",
    "\n",
    "    print(fit_timer())\n",
    "    with open(file, 'w') as time:\n",
    "      time.write(str(fit_timer()))"
   ]
  },
  {
   "cell_type": "code",
   "execution_count": 6,
   "metadata": {},
   "outputs": [],
   "source": [
    "mnist: DataFrame = fetch_openml('mnist_784', version=1)\n",
    "\n",
    "X: DataFrame = mnist['data'].astype(float64)\n",
    "y: Series = mnist['target'].astype(uint8)\n",
    "\n",
    "X_train: DataFrame\n",
    "X_test: DataFrame\n",
    "X_train, X_test = X[:60000], X[60000:]\n",
    "\n",
    "y_train: Series\n",
    "y_test: Series\n",
    "y_train, y_test = y[:60000], y[60000:]\n",
    "\n",
    "scaler: StandardScaler = StandardScaler()\n",
    "X_train_scale: DataFrame = scaler.fit_transform(X_train)\n",
    "X_test_scale: DataFrame = scaler.transform(X_test)"
   ]
  },
  {
   "cell_type": "code",
   "execution_count": null,
   "metadata": {},
   "outputs": [
    {
     "name": "stdout",
     "output_type": "stream",
     "text": [
      "226.80349449999994\n"
     ]
    }
   ],
   "source": [
    "time('sgd', SGDClassifier(random_state=42), X_train_scale, y_train)"
   ]
  },
  {
   "cell_type": "code",
   "execution_count": null,
   "metadata": {},
   "outputs": [],
   "source": [
    "time('svc_1000', SVC(gamma='auto', random_state=42), X_train_scale[:1000], y_train[:1000])"
   ]
  },
  {
   "cell_type": "code",
   "execution_count": null,
   "metadata": {},
   "outputs": [],
   "source": [
    "time('svc_2000', SVC(gamma='auto', random_state=42), X_train_scale[:2000], y_train[:2000])"
   ]
  },
  {
   "cell_type": "code",
   "execution_count": null,
   "metadata": {},
   "outputs": [],
   "source": [
    "time('svc_4000', SVC(gamma='auto', random_state=42), X_train_scale[:4000], y_train[:4000])"
   ]
  },
  {
   "cell_type": "code",
   "execution_count": null,
   "metadata": {},
   "outputs": [],
   "source": [
    "time('ovr_1000', OneVsRestClassifier(SVC(gamma='auto', random_state=42)), X_train_scale[:1000], y_train[:1000])"
   ]
  },
  {
   "cell_type": "code",
   "execution_count": null,
   "metadata": {},
   "outputs": [],
   "source": [
    "time('ovr_2000', OneVsRestClassifier(SVC(gamma='auto', random_state=42)), X_train_scale[:2000], y_train[:2000])"
   ]
  },
  {
   "cell_type": "code",
   "execution_count": null,
   "metadata": {},
   "outputs": [],
   "source": [
    "time('ovr_4000', OneVsRestClassifier(SVC(gamma='auto', random_state=42)), X_train_scale[:4000], y_train[:4000])"
   ]
  }
 ],
 "metadata": {
  "kernelspec": {
   "display_name": "Python 3",
   "language": "python",
   "name": "python3"
  },
  "language_info": {
   "codemirror_mode": {
    "name": "ipython",
    "version": 3
   },
   "file_extension": ".py",
   "mimetype": "text/x-python",
   "name": "python",
   "nbconvert_exporter": "python",
   "pygments_lexer": "ipython3",
   "version": "3.13.2"
  }
 },
 "nbformat": 4,
 "nbformat_minor": 2
}
