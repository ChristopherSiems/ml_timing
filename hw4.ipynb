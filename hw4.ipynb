{
 "cells": [
  {
   "cell_type": "code",
   "execution_count": null,
   "metadata": {},
   "outputs": [
    {
     "name": "stdout",
     "output_type": "stream",
     "text": [
      "Requirement already satisfied: numpy in ./env/lib64/python3.13/site-packages (2.2.3)\n",
      "Requirement already satisfied: pandas in ./env/lib64/python3.13/site-packages (2.2.3)\n",
      "Requirement already satisfied: scikit-learn in ./env/lib64/python3.13/site-packages (1.6.1)\n",
      "Requirement already satisfied: python-dateutil>=2.8.2 in ./env/lib64/python3.13/site-packages (from pandas) (2.9.0.post0)\n",
      "Requirement already satisfied: pytz>=2020.1 in ./env/lib64/python3.13/site-packages (from pandas) (2025.1)\n",
      "Requirement already satisfied: tzdata>=2022.7 in ./env/lib64/python3.13/site-packages (from pandas) (2025.1)\n",
      "Requirement already satisfied: scipy>=1.6.0 in ./env/lib64/python3.13/site-packages (from scikit-learn) (1.15.2)\n",
      "Requirement already satisfied: joblib>=1.2.0 in ./env/lib64/python3.13/site-packages (from scikit-learn) (1.4.2)\n",
      "Requirement already satisfied: threadpoolctl>=3.1.0 in ./env/lib64/python3.13/site-packages (from scikit-learn) (3.6.0)\n",
      "Requirement already satisfied: six>=1.5 in ./env/lib64/python3.13/site-packages (from python-dateutil>=2.8.2->pandas) (1.17.0)\n",
      "Note: you may need to restart the kernel to use updated packages.\n"
     ]
    }
   ],
   "source": [
    "%pip install numpy pandas scikit-learn\n",
    "\n",
    "from contextlib import contextmanager\n",
    "from json import dumps, load\n",
    "from pathlib import Path\n",
    "from timeit import default_timer\n",
    "from typing import Dict\n",
    "\n",
    "from pandas import DataFrame\n",
    "\n",
    "from numpy import append, array, float64, ndarray, reshape, uint8\n",
    "from numpy.typing import NDArray\n",
    "\n",
    "from sklearn.datasets import fetch_openml\n",
    "from sklearn.linear_model import SGDClassifier\n",
    "from sklearn.metrics import f1_score\n",
    "from sklearn.multiclass import OneVsRestClassifier\n",
    "from sklearn.preprocessing import StandardScaler\n",
    "from sklearn.svm import SVC"
   ]
  },
  {
   "cell_type": "code",
   "execution_count": null,
   "metadata": {},
   "outputs": [],
   "source": [
    "@contextmanager\n",
    "def timer():\n",
    "  '''from given starter code'''\n",
    "\n",
    "  start = default_timer()\n",
    "  def elapser(): return default_timer() - start\n",
    "  yield lambda: elapser()\n",
    "  end = default_timer()\n",
    "  def elapser(): return end - start\n",
    "\n",
    "\n",
    "def time(name: str, model: OneVsRestClassifier | SGDClassifier | SVC, X: NDArray[float64], y: NDArray[uint8]) -> None:\n",
    "  '''\n",
    "  time fitting models\n",
    "  :param name: the name of the model\n",
    "  :type name: str\n",
    "  :param model: the model to fit\n",
    "  :type model: OneVsRestClassifier | SGDClassifier | SVC\n",
    "  :param X: the training feature set\n",
    "  :type X: NDArray[float64]\n",
    "  :param y: the training label set\n",
    "  :type y: NDArray[uint8]\n",
    "  '''\n",
    "\n",
    "  file: str = f'times/{name}.txt'\n",
    "  if Path(file).is_file():\n",
    "    with open(file, 'r') as time:\n",
    "      print(f'\\ntraining time: {time.read()}')\n",
    "  else:\n",
    "    with timer() as fit_timer:\n",
    "      model.fit(X, y)\n",
    "\n",
    "    print(f'training time: {fit_timer()}')\n",
    "    with open(file, 'w') as time:\n",
    "      time.write(str(fit_timer()))\n",
    "\n",
    "def crop_time(name: str, X: NDArray[float64], model: OneVsRestClassifier | SGDClassifier | SVC, y_train: NDArray[uint8], y_test: NDArray[uint8]) -> None:\n",
    "  '''\n",
    "  time fitting cropped models\n",
    "  :param name: the name of the model\n",
    "  :type name: str\n",
    "  :param X: the feature set\n",
    "  :type X: NDArray[float64]\n",
    "  :param model: the model to train\n",
    "  :type model: OneVsRestClassifier | SGDClassifier | SVC\n",
    "  :param y_train: the training labels\n",
    "  :type y_train: NDArray[uint8]\n",
    "  :param y_test: the testing labels\n",
    "  :type y_test: NDArray[uint8]\n",
    "  '''\n",
    "\n",
    "  info: Dict[str, int | float] = {'dim': 28, 'time': float('inf'), 'perf': 0}\n",
    "\n",
    "  if Path(f'times/{name}.json').is_file():\n",
    "    with open(f'times/{name}.txt', 'r') as json_file:\n",
    "      info = load(json_file)\n",
    "    print(f'\\ndim.: {info['dim']}\\ntraining time: {info['time']}\\nf1-score: {info['perf']}')\n",
    "  else:\n",
    "    for i in range(0, 14):\n",
    "      curr_dim: int = 28 - i\n",
    "      X_reshape: NDArray[float64] = array(\n",
    "        [instance.reshape(28, 28)[i:curr_dim, i:curr_dim].flatten() for instance in X])\n",
    "      X_reshape_train: NDArray[float64]\n",
    "      X_reshape_test: NDArray[float64]\n",
    "      X_reshape_train, X_reshape_test = X[:60000], X[60000:]\n",
    "\n",
    "      with timer() as fit_timer:\n",
    "        model.fit(X_reshape_train, y_train)\n",
    "      score: float = f1_score(y_test, model.predict(X_reshape_test), average='micro')\n",
    "      curr_time: float = fit_timer()\n",
    "      print(f'\\ndim.: {curr_dim}\\ntraining time: {curr_time}\\nf1-score: {score}')\n",
    "\n",
    "      if score < perf:\n",
    "        break\n",
    "      info = {'dim': curr_dim, 'time': curr_time, 'perf': score}\n",
    "\n",
    "    with open(f'times/{info}.json', 'w') as json_file:\n",
    "      json_file.write(dumps(info, indent=2))"
   ]
  },
  {
   "cell_type": "code",
   "execution_count": null,
   "metadata": {},
   "outputs": [],
   "source": [
    "mnist: DataFrame = fetch_openml('mnist_784', version=1)\n",
    "\n",
    "X: NDArray[float64] = mnist['data'].astype(float64).to_numpy()\n",
    "y: NDArray[uint8] = mnist['target'].astype(uint8).to_numpy()\n",
    "\n",
    "X_train: NDArray[float64] = X[:60000]\n",
    "\n",
    "y_train: NDArray[uint8]\n",
    "y_test: NDArray[uint8]\n",
    "y_train, y_test = y[:60000], y[60000:]\n",
    "\n",
    "scaler: StandardScaler = StandardScaler()\n",
    "X_train_scale: NDArray[float64] = scaler.fit_transform(X_train)"
   ]
  },
  {
   "cell_type": "code",
   "execution_count": 90,
   "metadata": {},
   "outputs": [
    {
     "name": "stdout",
     "output_type": "stream",
     "text": [
      "runtime: 225.77199569999993\n"
     ]
    }
   ],
   "source": [
    "time('sgd', SGDClassifier(random_state=42), X_train_scale, y_train)"
   ]
  },
  {
   "cell_type": "code",
   "execution_count": null,
   "metadata": {},
   "outputs": [
    {
     "name": "stdout",
     "output_type": "stream",
     "text": [
      "runtime: 0.12480860000050598\n"
     ]
    }
   ],
   "source": [
    "time('svc_17500', SVC(gamma='auto', random_state=42),\n",
    "     X_train_scale[:17500], y_train[:17500])"
   ]
  },
  {
   "cell_type": "code",
   "execution_count": null,
   "metadata": {},
   "outputs": [
    {
     "name": "stdout",
     "output_type": "stream",
     "text": [
      "runtime: 0.3617899999999281\n"
     ]
    }
   ],
   "source": [
    "time('svc_35000', SVC(gamma='auto', random_state=42),\n",
    "     X_train_scale[:35000], y_train[:35000])"
   ]
  },
  {
   "cell_type": "code",
   "execution_count": null,
   "metadata": {},
   "outputs": [
    {
     "name": "stdout",
     "output_type": "stream",
     "text": [
      "runtime: 1.2012546000005386\n"
     ]
    }
   ],
   "source": [
    "time('svc_70000', SVC(gamma='auto', random_state=42),\n",
    "     X_train_scale, y_train)"
   ]
  },
  {
   "cell_type": "code",
   "execution_count": null,
   "metadata": {},
   "outputs": [
    {
     "name": "stdout",
     "output_type": "stream",
     "text": [
      "runtime: 0.3732375999998112\n"
     ]
    }
   ],
   "source": [
    "time('ovr_17500', OneVsRestClassifier(SVC(gamma='auto', random_state=42)),\n",
    "     X_train_scale[:17500], y_train[:17500])"
   ]
  },
  {
   "cell_type": "code",
   "execution_count": null,
   "metadata": {},
   "outputs": [
    {
     "name": "stdout",
     "output_type": "stream",
     "text": [
      "runtime: 1.6762154000007286\n"
     ]
    }
   ],
   "source": [
    "time('ovr_35000', OneVsRestClassifier(SVC(gamma='auto', random_state=42)),\n",
    "     X_train_scale[:35000], y_train[:35000])"
   ]
  },
  {
   "cell_type": "code",
   "execution_count": null,
   "metadata": {},
   "outputs": [
    {
     "name": "stdout",
     "output_type": "stream",
     "text": [
      "runtime: 7.157275699999445\n"
     ]
    }
   ],
   "source": [
    "time('ovr_70000', OneVsRestClassifier(SVC(gamma='auto', random_state=42)),\n",
    "     X_train_scale, y_train)"
   ]
  },
  {
   "cell_type": "code",
   "execution_count": null,
   "metadata": {},
   "outputs": [
    {
     "name": "stdout",
     "output_type": "stream",
     "text": [
      "[[0. 0. 0. ... 0. 0. 0.]\n",
      " [0. 0. 0. ... 0. 0. 0.]\n",
      " [0. 0. 0. ... 0. 0. 0.]\n",
      " ...\n",
      " [0. 0. 0. ... 0. 0. 0.]\n",
      " [0. 0. 0. ... 0. 0. 0.]\n",
      " [0. 0. 0. ... 0. 0. 0.]]\n",
      "[[0. 0. 0. ... 0. 0. 0.]\n",
      " [0. 0. 0. ... 0. 0. 0.]\n",
      " [0. 0. 0. ... 0. 0. 0.]\n",
      " ...\n",
      " [0. 0. 0. ... 0. 0. 0.]\n",
      " [0. 0. 0. ... 0. 0. 0.]\n",
      " [0. 0. 0. ... 0. 0. 0.]]\n",
      "[[0. 0. 0. ... 0. 0. 0.]\n",
      " [0. 0. 0. ... 0. 0. 0.]\n",
      " [0. 0. 0. ... 0. 0. 0.]\n",
      " ...\n",
      " [0. 0. 0. ... 0. 0. 0.]\n",
      " [0. 0. 0. ... 0. 0. 0.]\n",
      " [0. 0. 0. ... 0. 0. 0.]]\n",
      "[[0. 0. 0. ... 0. 0. 0.]\n",
      " [0. 0. 0. ... 0. 0. 0.]\n",
      " [0. 0. 0. ... 0. 0. 0.]\n",
      " ...\n",
      " [0. 0. 0. ... 0. 0. 0.]\n",
      " [0. 0. 0. ... 0. 0. 0.]\n",
      " [0. 0. 0. ... 0. 0. 0.]]\n",
      "[[0. 0. 0. ... 0. 0. 0.]\n",
      " [0. 0. 0. ... 0. 0. 0.]\n",
      " [0. 0. 0. ... 0. 0. 0.]\n",
      " ...\n",
      " [0. 0. 0. ... 0. 0. 0.]\n",
      " [0. 0. 0. ... 0. 0. 0.]\n",
      " [0. 0. 0. ... 0. 0. 0.]]\n",
      "[[ 0.  0. 30. ...  0.  0.  0.]\n",
      " [ 0.  0.  0. ...  0.  0.  0.]\n",
      " [ 0.  0.  0. ... 96.  0.  0.]\n",
      " ...\n",
      " [ 0.  0.  0. ...  0.  0.  0.]\n",
      " [ 0.  0.  0. ...  0.  0.  0.]\n",
      " [ 0.  0.  0. ...  4.  0.  0.]]\n",
      "[[ 49. 238. 253. ...  78.   0.   0.]\n",
      " [  0.   0.   0. ...  56.   0.   0.]\n",
      " [  0.   0.   0. ... 255.  94.   0.]\n",
      " ...\n",
      " [  0.   0.   0. ...   0.   0.   0.]\n",
      " [  0.   0.   0. ...   0.   0.   0.]\n",
      " [  0.   0.  15. ... 253. 175.  52.]]\n",
      "[[219. 253. 253. ... 253. 250. 182.]\n",
      " [  0.   0.   0. ... 253. 162.   0.]\n",
      " [  0.   0.   0. ... 169. 254.  57.]\n",
      " ...\n",
      " [  0.   0. 108. ...   0.   0.   0.]\n",
      " [  0.   0.   0. ...  29.   0.   0.]\n",
      " [  0.   0.   0. ... 253. 253. 253.]]\n",
      "[[156. 107. 253. ... 183. 253. 253.]\n",
      " [  0.  51. 238. ...  48. 165. 252.]\n",
      " [  0.   0.   0. ...   0. 169. 254.]\n",
      " ...\n",
      " [ 31. 216. 254. ...  79.   0.   0.]\n",
      " [  0.   0. 123. ... 254.   0.   0.]\n",
      " [  0.  75. 207. ...  86.  86. 109.]]\n",
      "[[  1. 154. 253. ...   0.   0. 249.]\n",
      " [238. 252. 252. ...   0.   0.   7.]\n",
      " [  0.   0.   0. ...   0.   0. 169.]\n",
      " ...\n",
      " [254. 254. 189. ... 254. 196.  11.]\n",
      " [ 71. 252. 254. ... 254. 254. 126.]\n",
      " [219. 253. 253. ...  60.  54.   9.]]\n",
      "[[139. 253. 190. ...   0.  16.  93.]\n",
      " [233. 208.  84. ...   0.   0.   0.]\n",
      " [  0.   0.   0. ...   0.   0.   0.]\n",
      " ...\n",
      " [248.  69.   0. ... 254. 254. 254.]\n",
      " [254. 254. 254. ... 200. 254. 255.]\n",
      " [253. 253.  34. ... 253. 254. 247.]]\n",
      "[[190. 253.  70. ...   0.  45. 186.]\n",
      " [ 19.  28.   0. ...   0.   0.   0.]\n",
      " [  0.   0.   0. ... 198. 143.  91.]\n",
      " ...\n",
      " [  0.   0.  11. ... 254. 254. 254.]\n",
      " [254. 194. 169. ... 254. 254. 254.]\n",
      " [ 94.   0.   0. ... 158. 210. 254.]]\n",
      "[[241. 225.  81. 240.]\n",
      " [  0.   0.   0.   0.]\n",
      " [  0.   0. 150. 241.]\n",
      " ...\n",
      " [174. 194. 254. 254.]\n",
      " [248. 133. 254. 254.]\n",
      " [  0.   0.   0.  18.]]\n",
      "[]\n"
     ]
    }
   ],
   "source": [
    "crop_time('sgd_crop', X, SGDClassifier(random_state=42), y_train, y_test)"
   ]
  },
  {
   "cell_type": "code",
   "execution_count": null,
   "metadata": {},
   "outputs": [],
   "source": [
    "crop_time('svc_crop', X, SVC(gamma='auto', random_state=42), y_train, y_test)"
   ]
  },
  {
   "cell_type": "code",
   "execution_count": null,
   "metadata": {},
   "outputs": [],
   "source": [
    "crop_time('ovr_crop', X, OneVsRestClassifier(SVC(gamma='auto', random_state=42)), y_train, y_test)"
   ]
  }
 ],
 "metadata": {
  "kernelspec": {
   "display_name": "env",
   "language": "python",
   "name": "python3"
  },
  "language_info": {
   "codemirror_mode": {
    "name": "ipython",
    "version": 3
   },
   "file_extension": ".py",
   "mimetype": "text/x-python",
   "name": "python",
   "nbconvert_exporter": "python",
   "pygments_lexer": "ipython3",
   "version": "3.13.2"
  }
 },
 "nbformat": 4,
 "nbformat_minor": 2
}
